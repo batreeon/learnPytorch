{
 "metadata": {
  "language_info": {
   "codemirror_mode": {
    "name": "ipython",
    "version": 3
   },
   "file_extension": ".py",
   "mimetype": "text/x-python",
   "name": "python",
   "nbconvert_exporter": "python",
   "pygments_lexer": "ipython3",
   "version": "3.6.4-final"
  },
  "orig_nbformat": 2,
  "kernelspec": {
   "name": "python3",
   "display_name": "Python 3.6.4 64-bit ('pytorch16': conda)",
   "metadata": {
    "interpreter": {
     "hash": "d5e09597e57268e4deaea307e32c759c6bb5854fe508a90bbe1ba7f0563d896f"
    }
   }
  }
 },
 "nbformat": 4,
 "nbformat_minor": 2,
 "cells": [
  {
   "cell_type": "code",
   "execution_count": 2,
   "metadata": {},
   "outputs": [],
   "source": [
    "from __future__ import print_function\n",
    "import torch"
   ]
  },
  {
   "cell_type": "code",
   "execution_count": 3,
   "metadata": {},
   "outputs": [
    {
     "output_type": "stream",
     "name": "stdout",
     "text": [
      "tensor([[-3.0793e+10,  4.5751e-41, -2.5921e+29],\n        [ 3.0637e-41,  4.4842e-44,  0.0000e+00],\n        [ 4.4842e-44,  0.0000e+00,  0.0000e+00],\n        [ 0.0000e+00, -3.0793e+10,  4.5751e-41],\n        [ 2.5226e-18,  2.4283e-18,  4.6243e-44]])\n"
     ]
    }
   ],
   "source": [
    "x = torch.empty(5,3)\n",
    "print(x)"
   ]
  },
  {
   "cell_type": "code",
   "execution_count": 4,
   "metadata": {},
   "outputs": [
    {
     "output_type": "stream",
     "name": "stdout",
     "text": [
      "tensor([[0.4277, 0.2460, 0.1083],\n        [0.4903, 0.2700, 0.7936],\n        [0.6242, 0.6021, 0.8397],\n        [0.1838, 0.5372, 0.5876],\n        [0.9423, 0.9462, 0.0024]])\n"
     ]
    }
   ],
   "source": [
    "x = torch.rand(5,3)\n",
    "print(x)"
   ]
  },
  {
   "cell_type": "code",
   "execution_count": 5,
   "metadata": {},
   "outputs": [
    {
     "output_type": "stream",
     "name": "stdout",
     "text": [
      "tensor([[1., 1., 1.],\n        [1., 1., 1.],\n        [1., 1., 1.],\n        [1., 1., 1.],\n        [1., 1., 1.]], dtype=torch.float64)\ntorch.Size([5, 3])\n"
     ]
    },
    {
     "output_type": "execute_result",
     "data": {
      "text/plain": [
       "torch.Size([5, 0])"
      ]
     },
     "metadata": {},
     "execution_count": 5
    }
   ],
   "source": [
    "x = x.new_ones(5,3,dtype=torch.double)\n",
    "print(x)\n",
    "\n",
    "print(x.size())\n",
    "\n",
    "# tuple\n",
    "torch.Size([5,0])"
   ]
  },
  {
   "cell_type": "code",
   "execution_count": 6,
   "metadata": {},
   "outputs": [
    {
     "output_type": "stream",
     "name": "stdout",
     "text": [
      "torch.Size([5, 3]) torch.Size([15]) torch.Size([3, 5])\n"
     ]
    }
   ],
   "source": [
    "y = x.view(15)\n",
    "z = x.view(-1,5)\n",
    "print(x.size(),y.size(),z.size())"
   ]
  },
  {
   "cell_type": "code",
   "execution_count": 7,
   "metadata": {},
   "outputs": [
    {
     "output_type": "stream",
     "name": "stdout",
     "text": [
      "[[1. 1. 1. 1. 1.]\n [1. 1. 1. 1. 1.]\n [1. 1. 1. 1. 1.]]\n"
     ]
    }
   ],
   "source": [
    "b = z.numpy()\n",
    "print(b)"
   ]
  },
  {
   "cell_type": "code",
   "execution_count": 8,
   "metadata": {},
   "outputs": [
    {
     "output_type": "stream",
     "name": "stdout",
     "text": [
      "tensor([[1., 1., 1., 1., 1.],\n        [1., 1., 1., 1., 1.],\n        [1., 1., 1., 1., 1.]], dtype=torch.float64)\ntensor([[2., 2., 2., 2., 2.],\n        [2., 2., 2., 2., 2.],\n        [2., 2., 2., 2., 2.]], dtype=torch.float64)\n[[2. 2. 2. 2. 2.]\n [2. 2. 2. 2. 2.]\n [2. 2. 2. 2. 2.]]\n"
     ]
    }
   ],
   "source": [
    "print(z)\n",
    "z.add_(1)\n",
    "print(z)\n",
    "print(b)"
   ]
  },
  {
   "cell_type": "code",
   "execution_count": 9,
   "metadata": {},
   "outputs": [
    {
     "output_type": "stream",
     "name": "stdout",
     "text": [
      "[2. 2. 2. 2. 2.]\ntensor([2., 2., 2., 2., 2.], dtype=torch.float64)\n"
     ]
    }
   ],
   "source": [
    "import numpy as np\n",
    "a = np.ones(5)\n",
    "b = torch.from_numpy(a)\n",
    "np.add(a,1,out=a)\n",
    "print(a)\n",
    "print(b)"
   ]
  },
  {
   "cell_type": "code",
   "execution_count": 12,
   "metadata": {},
   "outputs": [
    {
     "output_type": "stream",
     "name": "stdout",
     "text": [
      "tensor([-2.0727], device='cuda:0')\ntensor([-2.0727], dtype=torch.float64)\n"
     ]
    }
   ],
   "source": [
    "x = torch.randn(1)\n",
    "if torch.cuda.is_available():\n",
    "    # cuda设备对象\n",
    "    device = torch.device(\"cuda\")\n",
    "    # 直接在gpu上创建tensor\n",
    "    y = torch.ones_like(x,device=device)\n",
    "    x = x.to(device)\n",
    "    z = x+y\n",
    "    print(z)\n",
    "    print(z.to(\"cpu\",torch.double))"
   ]
  },
  {
   "cell_type": "code",
   "execution_count": null,
   "metadata": {},
   "outputs": [],
   "source": []
  }
 ]
}